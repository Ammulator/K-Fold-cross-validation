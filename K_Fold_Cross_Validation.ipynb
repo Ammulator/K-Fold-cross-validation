{
  "nbformat": 4,
  "nbformat_minor": 0,
  "metadata": {
    "colab": {
      "name": "K-Fold Cross Validation.ipynb",
      "provenance": [],
      "authorship_tag": "ABX9TyPkbKcQGp3mrox0s7kbSrxq",
      "include_colab_link": true
    },
    "kernelspec": {
      "name": "python3",
      "display_name": "Python 3"
    }
  },
  "cells": [
    {
      "cell_type": "markdown",
      "metadata": {
        "id": "view-in-github",
        "colab_type": "text"
      },
      "source": [
        "<a href=\"https://colab.research.google.com/github/Ammulator/K-Fold-cross-validation/blob/main/K_Fold_Cross_Validation.ipynb\" target=\"_parent\"><img src=\"https://colab.research.google.com/assets/colab-badge.svg\" alt=\"Open In Colab\"/></a>"
      ]
    },
    {
      "cell_type": "markdown",
      "metadata": {
        "id": "GU0wXNsTPgiQ"
      },
      "source": [
        "**1. Importing Libraries**"
      ]
    },
    {
      "cell_type": "code",
      "metadata": {
        "id": "vctS1kc7LujP"
      },
      "source": [
        "import pandas as pd\r\n",
        "from sklearn.model_selection import KFold\r\n",
        "from sklearn.linear_model import LogisticRegression\r\n",
        "import numpy as np"
      ],
      "execution_count": 39,
      "outputs": []
    },
    {
      "cell_type": "markdown",
      "metadata": {
        "id": "s8B9TUhAP7ac"
      },
      "source": [
        "**2. Import the dataset and select the features**"
      ]
    },
    {
      "cell_type": "code",
      "metadata": {
        "id": "jaYqRRSQP6rH"
      },
      "source": [
        "df=pd.read_csv(\"sample_data/california_housing_train.csv\")\r\n",
        "X=df[['housing_median_age','total_rooms','total_bedrooms','population','households','median_income']].values\r\n",
        "y=df['median_house_value'].values"
      ],
      "execution_count": 36,
      "outputs": []
    },
    {
      "cell_type": "markdown",
      "metadata": {
        "id": "ZUAKNNIGUW0r"
      },
      "source": [
        "**3. Using K-Fold Cross Validation.**\r\n",
        "\r\n",
        "Here K is the number of Chunks which is used to divide the dataset.\r\n",
        "\r\n",
        "And Shuffle is used to shuffle the data\r\n",
        "\r\n",
        "Here the split method give us the generator so we use list function to turn it into list.\r\n"
      ]
    },
    {
      "cell_type": "code",
      "metadata": {
        "colab": {
          "base_uri": "https://localhost:8080/"
        },
        "id": "I0IZgCB2UVWv",
        "outputId": "545eb45f-a646-4ff5-d720-5265a57fdea9"
      },
      "source": [
        "kf=KFold(n_splits=5,shuffle=True)\r\n",
        "splits=list(kf.split(X))\r\n",
        "print(splits[0])"
      ],
      "execution_count": 37,
      "outputs": [
        {
          "output_type": "stream",
          "text": [
            "(array([    0,     1,     3, ..., 16997, 16998, 16999]), array([    2,    11,    15, ..., 16972, 16979, 16981]))\n"
          ],
          "name": "stdout"
        }
      ]
    },
    {
      "cell_type": "markdown",
      "metadata": {
        "id": "7nOyQqOUXBPc"
      },
      "source": [
        "For Manually Spliting "
      ]
    },
    {
      "cell_type": "code",
      "metadata": {
        "colab": {
          "base_uri": "https://localhost:8080/"
        },
        "id": "dWBxxVutXAIF",
        "outputId": "9819e0cc-9410-46fb-a0e3-ebc59f3f9094"
      },
      "source": [
        "train_indices,test_indices=splits[0]\r\n",
        "X_train=X[train_indices]\r\n",
        "X_test=X[test_indices]\r\n",
        "y_train=y[train_indices]\r\n",
        "y_test=y[test_indices]\r\n",
        "\r\n",
        "#Build a Model\r\n",
        "model=LogisticRegression()\r\n",
        "model.fit(X_train,y_train)\r\n",
        "print(model.score(X_test,y_test))"
      ],
      "execution_count": 38,
      "outputs": [
        {
          "output_type": "stream",
          "text": [
            "0.047058823529411764\n"
          ],
          "name": "stdout"
        },
        {
          "output_type": "stream",
          "text": [
            "/usr/local/lib/python3.6/dist-packages/sklearn/linear_model/_logistic.py:940: ConvergenceWarning: lbfgs failed to converge (status=1):\n",
            "STOP: TOTAL NO. of ITERATIONS REACHED LIMIT.\n",
            "\n",
            "Increase the number of iterations (max_iter) or scale the data as shown in:\n",
            "    https://scikit-learn.org/stable/modules/preprocessing.html\n",
            "Please also refer to the documentation for alternative solver options:\n",
            "    https://scikit-learn.org/stable/modules/linear_model.html#logistic-regression\n",
            "  extra_warning_msg=_LOGISTIC_SOLVER_CONVERGENCE_MSG)\n"
          ],
          "name": "stderr"
        }
      ]
    },
    {
      "cell_type": "markdown",
      "metadata": {
        "id": "S6dCSN1Cb2Hu"
      },
      "source": [
        "Now For all the K values we have to use the loop for splitinf=g of data"
      ]
    },
    {
      "cell_type": "code",
      "metadata": {
        "colab": {
          "base_uri": "https://localhost:8080/"
        },
        "id": "4exNpXLSb0zN",
        "outputId": "841a0be8-e82a-4476-b5c2-90f8a6328cb8"
      },
      "source": [
        "scores = []\r\n",
        "kf = KFold(n_splits=5, shuffle=True)\r\n",
        "for train_index, test_index in kf.split(X):\r\n",
        "    X_train, X_test = X[train_index], X[test_index]\r\n",
        "    y_train, y_test = y[train_index], y[test_index]\r\n",
        "    model = LogisticRegression()\r\n",
        "    model.fit(X_train, y_train)\r\n",
        "    scores.append(model.score(X_test, y_test))\r\n",
        "print(scores)"
      ],
      "execution_count": 40,
      "outputs": [
        {
          "output_type": "stream",
          "text": [
            "/usr/local/lib/python3.6/dist-packages/sklearn/linear_model/_logistic.py:940: ConvergenceWarning: lbfgs failed to converge (status=1):\n",
            "STOP: TOTAL NO. of ITERATIONS REACHED LIMIT.\n",
            "\n",
            "Increase the number of iterations (max_iter) or scale the data as shown in:\n",
            "    https://scikit-learn.org/stable/modules/preprocessing.html\n",
            "Please also refer to the documentation for alternative solver options:\n",
            "    https://scikit-learn.org/stable/modules/linear_model.html#logistic-regression\n",
            "  extra_warning_msg=_LOGISTIC_SOLVER_CONVERGENCE_MSG)\n",
            "/usr/local/lib/python3.6/dist-packages/sklearn/linear_model/_logistic.py:940: ConvergenceWarning: lbfgs failed to converge (status=1):\n",
            "STOP: TOTAL NO. of ITERATIONS REACHED LIMIT.\n",
            "\n",
            "Increase the number of iterations (max_iter) or scale the data as shown in:\n",
            "    https://scikit-learn.org/stable/modules/preprocessing.html\n",
            "Please also refer to the documentation for alternative solver options:\n",
            "    https://scikit-learn.org/stable/modules/linear_model.html#logistic-regression\n",
            "  extra_warning_msg=_LOGISTIC_SOLVER_CONVERGENCE_MSG)\n",
            "/usr/local/lib/python3.6/dist-packages/sklearn/linear_model/_logistic.py:940: ConvergenceWarning: lbfgs failed to converge (status=1):\n",
            "STOP: TOTAL NO. of ITERATIONS REACHED LIMIT.\n",
            "\n",
            "Increase the number of iterations (max_iter) or scale the data as shown in:\n",
            "    https://scikit-learn.org/stable/modules/preprocessing.html\n",
            "Please also refer to the documentation for alternative solver options:\n",
            "    https://scikit-learn.org/stable/modules/linear_model.html#logistic-regression\n",
            "  extra_warning_msg=_LOGISTIC_SOLVER_CONVERGENCE_MSG)\n",
            "/usr/local/lib/python3.6/dist-packages/sklearn/linear_model/_logistic.py:940: ConvergenceWarning: lbfgs failed to converge (status=1):\n",
            "STOP: TOTAL NO. of ITERATIONS REACHED LIMIT.\n",
            "\n",
            "Increase the number of iterations (max_iter) or scale the data as shown in:\n",
            "    https://scikit-learn.org/stable/modules/preprocessing.html\n",
            "Please also refer to the documentation for alternative solver options:\n",
            "    https://scikit-learn.org/stable/modules/linear_model.html#logistic-regression\n",
            "  extra_warning_msg=_LOGISTIC_SOLVER_CONVERGENCE_MSG)\n"
          ],
          "name": "stderr"
        },
        {
          "output_type": "stream",
          "text": [
            "[0.04911764705882353, 0.04823529411764706, 0.04735294117647059, 0.04, 0.049705882352941176]\n"
          ],
          "name": "stdout"
        },
        {
          "output_type": "stream",
          "text": [
            "/usr/local/lib/python3.6/dist-packages/sklearn/linear_model/_logistic.py:940: ConvergenceWarning: lbfgs failed to converge (status=1):\n",
            "STOP: TOTAL NO. of ITERATIONS REACHED LIMIT.\n",
            "\n",
            "Increase the number of iterations (max_iter) or scale the data as shown in:\n",
            "    https://scikit-learn.org/stable/modules/preprocessing.html\n",
            "Please also refer to the documentation for alternative solver options:\n",
            "    https://scikit-learn.org/stable/modules/linear_model.html#logistic-regression\n",
            "  extra_warning_msg=_LOGISTIC_SOLVER_CONVERGENCE_MSG)\n"
          ],
          "name": "stderr"
        }
      ]
    },
    {
      "cell_type": "code",
      "metadata": {
        "colab": {
          "base_uri": "https://localhost:8080/"
        },
        "id": "KPRa80Gbcb-c",
        "outputId": "fa2db358-2940-40cc-f99a-9d9e80690b70"
      },
      "source": [
        "#Now we calculate the mean of all the model \r\n",
        "print(np.mean(scores))"
      ],
      "execution_count": 42,
      "outputs": [
        {
          "output_type": "stream",
          "text": [
            "0.04688235294117647\n"
          ],
          "name": "stdout"
        }
      ]
    },
    {
      "cell_type": "markdown",
      "metadata": {
        "id": "Vd54jSvxcy40"
      },
      "source": [
        "5. Now for a final model which the combination of all 5 models are"
      ]
    },
    {
      "cell_type": "code",
      "metadata": {
        "colab": {
          "base_uri": "https://localhost:8080/"
        },
        "id": "xGOFo2KEcxuy",
        "outputId": "725dcdaa-7889-4683-ccbb-b60bbc4ec5fb"
      },
      "source": [
        "final_model=LogisticRegression()\r\n",
        "final_model.fit(X,y)\r\n",
        "print(final_model.score(X,y))"
      ],
      "execution_count": 43,
      "outputs": [
        {
          "output_type": "stream",
          "text": [
            "/usr/local/lib/python3.6/dist-packages/sklearn/linear_model/_logistic.py:940: ConvergenceWarning: lbfgs failed to converge (status=1):\n",
            "STOP: TOTAL NO. of ITERATIONS REACHED LIMIT.\n",
            "\n",
            "Increase the number of iterations (max_iter) or scale the data as shown in:\n",
            "    https://scikit-learn.org/stable/modules/preprocessing.html\n",
            "Please also refer to the documentation for alternative solver options:\n",
            "    https://scikit-learn.org/stable/modules/linear_model.html#logistic-regression\n",
            "  extra_warning_msg=_LOGISTIC_SOLVER_CONVERGENCE_MSG)\n"
          ],
          "name": "stderr"
        },
        {
          "output_type": "stream",
          "text": [
            "0.04847058823529412\n"
          ],
          "name": "stdout"
        }
      ]
    }
  ]
}